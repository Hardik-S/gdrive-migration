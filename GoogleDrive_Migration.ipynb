{
  "nbformat": 4,
  "nbformat_minor": 0,
  "metadata": {
    "colab": {
      "name": "GoogleDrive Migration.ipynb",
      "provenance": [],
      "collapsed_sections": [],
      "authorship_tag": "ABX9TyMHPfhWtljZkXihzD8H3zrz",
      "include_colab_link": true
    },
    "kernelspec": {
      "name": "python3",
      "display_name": "Python 3"
    }
  },
  "cells": [
    {
      "cell_type": "markdown",
      "metadata": {
        "id": "view-in-github",
        "colab_type": "text"
      },
      "source": [
        "<a href=\"https://colab.research.google.com/github/alx-xlx/gdrive-migration/blob/master/GoogleDrive_Migration.ipynb\" target=\"_parent\"><img src=\"https://colab.research.google.com/assets/colab-badge.svg\" alt=\"Open In Colab\"/></a>"
      ]
    },
    {
      "cell_type": "markdown",
      "metadata": {
        "id": "lxTFXZi41jYa",
        "colab_type": "text"
      },
      "source": [
        ""
      ]
    },
    {
      "cell_type": "code",
      "metadata": {
        "id": "KPDQawnG1Z0p",
        "colab_type": "code",
        "colab": {
          "base_uri": "https://localhost:8080/",
          "height": 122
        },
        "outputId": "64057d24-64ac-4605-f2bc-98fe220d8e0e"
      },
      "source": [
        "from google.colab import drive\n",
        "drive.mount('/gdrive')"
      ],
      "execution_count": 2,
      "outputs": [
        {
          "output_type": "stream",
          "text": [
            "Go to this URL in a browser: https://accounts.google.com/o/oauth2/auth?client_id=947318989803-6bn6qk8qdgf4n4g3pfee6491hc0brc4i.apps.googleusercontent.com&redirect_uri=urn%3aietf%3awg%3aoauth%3a2.0%3aoob&response_type=code&scope=email%20https%3a%2f%2fwww.googleapis.com%2fauth%2fdocs.test%20https%3a%2f%2fwww.googleapis.com%2fauth%2fdrive%20https%3a%2f%2fwww.googleapis.com%2fauth%2fdrive.photos.readonly%20https%3a%2f%2fwww.googleapis.com%2fauth%2fpeopleapi.readonly\n",
            "\n",
            "Enter your authorization code:\n",
            "··········\n",
            "Mounted at /gdrive\n"
          ],
          "name": "stdout"
        }
      ]
    },
    {
      "cell_type": "markdown",
      "metadata": {
        "id": "QKDEo3O42X5S",
        "colab_type": "text"
      },
      "source": [
        "--------------------------------------------------------------------------------"
      ]
    },
    {
      "cell_type": "markdown",
      "metadata": {
        "id": "CgDOIoVu199J",
        "colab_type": "text"
      },
      "source": [
        "Runs this and edit '/gdrive/Shared drives/**SHARED_DRIVE**' in the next Cell"
      ]
    },
    {
      "cell_type": "code",
      "metadata": {
        "id": "QJAPZEFp29QB",
        "colab_type": "code",
        "colab": {}
      },
      "source": [
        "!cd '/gdrive/Shared drives/' && ls"
      ],
      "execution_count": 0,
      "outputs": []
    },
    {
      "cell_type": "code",
      "metadata": {
        "colab_type": "code",
        "id": "3LkMR3P52uDc",
        "colab": {}
      },
      "source": [
        "!cd '/gdrive/Shared drives/' && ls"
      ],
      "execution_count": 0,
      "outputs": []
    },
    {
      "cell_type": "markdown",
      "metadata": {
        "id": "o5PdpxLR3XGL",
        "colab_type": "text"
      },
      "source": [
        "Make a Copy of Folder within **MyDrive**"
      ]
    },
    {
      "cell_type": "code",
      "metadata": {
        "id": "YSmUUwrp3b5D",
        "colab_type": "code",
        "colab": {}
      },
      "source": [
        ""
      ],
      "execution_count": 0,
      "outputs": []
    },
    {
      "cell_type": "code",
      "metadata": {
        "id": "fSmcOdnb3cn9",
        "colab_type": "code",
        "colab": {}
      },
      "source": [
        ""
      ],
      "execution_count": 0,
      "outputs": []
    },
    {
      "cell_type": "markdown",
      "metadata": {
        "id": "lXj4PXi83c5r",
        "colab_type": "text"
      },
      "source": [
        "Make a Copy of Folder within **Shared Drive**"
      ]
    },
    {
      "cell_type": "code",
      "metadata": {
        "id": "HSrEnnds3jUY",
        "colab_type": "code",
        "colab": {}
      },
      "source": [
        ""
      ],
      "execution_count": 0,
      "outputs": []
    },
    {
      "cell_type": "code",
      "metadata": {
        "id": "ohC9K84x3jkO",
        "colab_type": "code",
        "colab": {}
      },
      "source": [
        ""
      ],
      "execution_count": 0,
      "outputs": []
    },
    {
      "cell_type": "markdown",
      "metadata": {
        "id": "g8mEjIQc3j3K",
        "colab_type": "text"
      },
      "source": [
        "### Copy a Folder from **Shared Drive** to **My Drive**\n",
        "1. Run the below code to get the list of ***Shared Drives***"
      ]
    },
    {
      "cell_type": "code",
      "metadata": {
        "id": "zQs2Gq383sIU",
        "colab_type": "code",
        "colab": {}
      },
      "source": [
        "!ls '/gdrive/Shared drives'"
      ],
      "execution_count": 0,
      "outputs": []
    },
    {
      "cell_type": "markdown",
      "metadata": {
        "id": "6on7RCTp8x-q",
        "colab_type": "text"
      },
      "source": [
        "---\n",
        "2. Replace \n",
        "\n",
        "*   TEAMDRIVE with your Shared Drive Name\n",
        "*   FOLDER with the path of the Folder you want to copy\n",
        "\n",
        "Example : \n",
        "\n",
        "```\n",
        "!cp -av '/gdrive/Shared drives/alex/testfolder' '/gdrive/My Drive/'\n",
        "```\n",
        "\n",
        "![alt text](https://i.imgur.com/DiHA39S.png)"
      ]
    },
    {
      "cell_type": "code",
      "metadata": {
        "id": "7RC_U2uQ3sBT",
        "colab_type": "code",
        "colab": {}
      },
      "source": [
        "!cp -av '/gdrive/Shared drives/TEAMDRIVE/FOLDER' '/gdrive/My Drive/'"
      ],
      "execution_count": 0,
      "outputs": []
    },
    {
      "cell_type": "markdown",
      "metadata": {
        "id": "5nRthTcI3sbM",
        "colab_type": "text"
      },
      "source": [
        "### Copy a Folder from **My Drive** to **Shared Drive**"
      ]
    },
    {
      "cell_type": "code",
      "execution_count": null,
      "metadata": {},
      "outputs": [],
      "source": []
    },
    {
      "cell_type": "code",
      "execution_count": null,
      "metadata": {},
      "outputs": [],
      "source": []
    }
  ]
}